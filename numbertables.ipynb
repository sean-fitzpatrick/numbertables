{
 "cells": [
  {
   "cell_type": "markdown",
   "metadata": {
    "hidden": false
   },
   "source": [
    "# Numerical tables for (insert name of paper here)\n",
    "\n",
    "This notebook provides a searchable display for the tables of numerical values found in (paper). The first code cell below loads some Python packages needed to process the data.\n",
    "\n",
    "## Using this notebook:\n",
    "\n",
    "To load all the necessary Python packages and read in the data, select `Cell --> Run All` in the menu above.\n",
    "\n",
    "You can also choose to run the cells one at a time, but note that if you forget to run an earlier cell that loaded data or defined a variable, some of the later cells might throw an error.\n",
    "\n",
    "To run an individual cell, select that cell, and then hit `Shift + Enter`, or click on the Run button, which looks like this: `>|`\n",
    "\n",
    "If you make changes to some of the code cells (for example, to change what portion of a table is displayed), you can re-run the cell (as above). If you get an error, it might be a syntax error on your part, or it might be due to cell dependency. Try running all cells again to see if that fixes the problem. (You can also click the `>>` button to restart the kernel and re-run everything.)"
   ]
  },
  {
   "cell_type": "code",
   "execution_count": null,
   "metadata": {
    "hidden": false
   },
   "outputs": [],
   "source": [
    "import numpy as np\n",
    "import pandas as pd\n",
    "from pandas import DataFrame\n",
    "import csv\n",
    "from ipywidgets import widgets\n",
    "import IPython"
   ]
  },
  {
   "cell_type": "markdown",
   "metadata": {
    "hidden": false
   },
   "source": [
    "The next cell reads in the data from a collection CSV files generated (put information about how, who, etc. here).\n",
    "\n",
    "One set of CSV files contains floating point numeric data. The other contains the same data, but formatted using $\\LaTeX$. (The latter looks nice for humans; the former is usable by the computer.)"
   ]
  },
  {
   "cell_type": "code",
   "execution_count": null,
   "metadata": {
    "hidden": false
   },
   "outputs": [],
   "source": [
    "t9n = pd.read_csv(\"table9_numeric.csv\",names=['b','epsilon_b'])\n",
    "t10n = pd.read_csv(\"table10_numeric.csv\",names=['b_j','B_j1','B_j2','B_j3','B_j4','B_j5'])\n",
    "t11n = pd.read_csv(\"table11_numeric.csv\",names=['b_j','B_j1','B_j2','B_j3','B_j4','B_j5'])\n",
    "t13n = pd.read_csv(\"table13_numeric.csv\",names=['a','b','D_0','D_1','D_2','D_3','D_4','D_5'])\n",
    "t14n = pd.read_csv(\"table14_numeric.csv\",names=['logX','M_0','m_0'])\n",
    "t15n = pd.read_csv(\"table15_numeric.csv\",names=['logX','m_1','m_2','m_3','m_4','m_5'])\n",
    "t9l = pd.read_csv(\"table9.csv\",names=['$b$','$\\epsilon(b)$'])\n",
    "t10l = pd.read_csv(\"table10.csv\",names=['$b_j$','$B_{j,1}$','$B_{j,2}$','$B_{j,3}$','$B_{j,4}$','$B_{j,5}$'])\n",
    "t11l = pd.read_csv(\"table11.csv\",names=['$b_j$','$B_{j,1}$','$B_{j,2}$','$B_{j,3}$','$B_{j,4}$','$B_{j,5}$'])\n",
    "t13l = pd.read_csv(\"table13.csv\",names=['$a$','$b$','$\\mathcal{D}_0(a,b)$','$\\mathcal{D}_1(a,b)$','$\\mathcal{D}_2(a,b)$','$\\mathcal{D}_3(a,b)$','$\\mathcal{D}_4(a,b)$','$\\mathcal{D}_5(a,b)$'])\n",
    "t14l = pd.read_csv(\"table14.csv\",names=['$\\log X_0 = \\log X_1$','$M_0$','$m_0$'])\n",
    "t15l = pd.read_csv(\"table15.csv\",names=['$\\log X_0 = \\log X_1$','$m_1=M_1$','$m_2=M_2$','$m_3=M_3$','$m_4=M_4$','$m_5=M_5$'])\n"
   ]
  },
  {
   "cell_type": "markdown",
   "metadata": {
    "hidden": false
   },
   "source": [
    "For convenience, we're going to combine the above files so that the numeric data is in the first columns, followed by the rendered data. This will let us search using the numeric data, but display the nicely formatted stuff."
   ]
  },
  {
   "cell_type": "code",
   "execution_count": null,
   "metadata": {
    "hidden": false
   },
   "outputs": [],
   "source": [
    "t9 = pd.concat([t9n, t9l], axis=1, sort=False)\n",
    "t10 = pd.concat([t10n, t10l], axis=1, sort=False)\n",
    "t11 = pd.concat([t11n, t11l], axis=1, sort=False)\n",
    "t13 = pd.concat([t13n, t13l], axis=1, sort=False)\n",
    "t14 = pd.concat([t14n, t14l], axis=1, sort=False)\n",
    "t15 = pd.concat([t15n, t15l], axis=1, sort=False)"
   ]
  },
  {
   "cell_type": "markdown",
   "metadata": {
    "hidden": false
   },
   "source": [
    "For example, here's what we have for Table 13:"
   ]
  },
  {
   "cell_type": "code",
   "execution_count": null,
   "metadata": {
    "hidden": false
   },
   "outputs": [],
   "source": [
    "t13.head(5)"
   ]
  },
  {
   "cell_type": "markdown",
   "metadata": {
    "hidden": false
   },
   "source": [
    "If you want to display only certain columns, you can do so as follows:"
   ]
  },
  {
   "cell_type": "code",
   "execution_count": null,
   "metadata": {
    "hidden": false
   },
   "outputs": [],
   "source": [
    "t13[['b','$\\mathcal{D}_0(a,b)$']].head(5)"
   ]
  },
  {
   "cell_type": "markdown",
   "metadata": {
    "hidden": false
   },
   "source": [
    "Displaying a single column will also give you the data type:"
   ]
  },
  {
   "cell_type": "code",
   "execution_count": null,
   "metadata": {
    "hidden": false
   },
   "outputs": [],
   "source": [
    "t13['D_0'].head()"
   ]
  },
  {
   "cell_type": "markdown",
   "metadata": {
    "hidden": false
   },
   "source": [
    "Next, we'll set up some tables with the display columns only. We'll use these as our output source. (This step isn't necessary; the search commands below could be modified to do this all in one step.)"
   ]
  },
  {
   "cell_type": "code",
   "execution_count": null,
   "metadata": {
    "hidden": false
   },
   "outputs": [],
   "source": [
    "table9=t9[['$b$','$\\epsilon(b)$']]\n",
    "table10=t10[['$b_j$','$B_{j,1}$','$B_{j,2}$','$B_{j,3}$','$B_{j,4}$','$B_{j,5}$']]\n",
    "table11=t11[['$b_j$','$B_{j,1}$','$B_{j,2}$','$B_{j,3}$','$B_{j,4}$','$B_{j,5}$']]\n",
    "table13=t13[['$a$','$b$','$\\mathcal{D}_0(a,b)$','$\\mathcal{D}_1(a,b)$','$\\mathcal{D}_2(a,b)$','$\\mathcal{D}_3(a,b)$','$\\mathcal{D}_4(a,b)$','$\\mathcal{D}_5(a,b)$']]\n",
    "table14=t14[['$\\log X_0 = \\log X_1$','$M_0$','$m_0$']]\n",
    "table15=t15[['$\\log X_0 = \\log X_1$','$m_1=M_1$','$m_2=M_2$','$m_3=M_3$','$m_4=M_4$','$m_5=M_5$']]"
   ]
  },
  {
   "cell_type": "markdown",
   "metadata": {
    "hidden": false
   },
   "source": [
    "### Table 9: Sharper bounds for $\\psi(x)$ - $|\\psi(x) - x| < \\varepsilon(b) x$ where $\\varepsilon(b)$ is computable for $x \\ge e^b$ fixed\n",
    "\n",
    "Combined table of sharpest bounds for $|\\psi(x)-x|<\\varepsilon x$. Computed using Wedeniwski's partial verification of the Riemann Hypothesis<br> ($H_0=2\\,445\\,999\\,556\\,030$ `[51]`). For all $x\\ge x_0=e^{b}$ we have $|\\psi(x)-x|<\\varepsilon(b) x$. \n",
    "\n",
    "In Table 9, values for $b=20,\\ldots, 43$ are computed as in `[7, Theorem 2]` and `[6, Theorem 1]`. Values for $b=19\\log 10,  \\ldots, 2300$ are computed as in `[6, Theorem 1]`. Values for $b=2325,\\ldots, 13900$ are computed as in Theorem 3."
   ]
  },
  {
   "cell_type": "markdown",
   "metadata": {
    "hidden": false
   },
   "source": [
    "The first code cell loads the complete table, in case that's something one might actually want to look at. (The styling is added in case you chose LaTeX formatting above, to make sure it displays properly.)"
   ]
  },
  {
   "cell_type": "code",
   "execution_count": null,
   "metadata": {
    "hidden": false
   },
   "outputs": [],
   "source": [
    "table9.style.set_properties(**{'width': '120px'})"
   ]
  },
  {
   "cell_type": "markdown",
   "metadata": {
    "hidden": false
   },
   "source": [
    "If you want to access particular parts of the table, here are some basic commands for the Pandas Python package:\n",
    "\n",
    "- Type `table9.head(n)` to access the first $n$ lines, or `table9.tail(n)` to get the last $n$.\n",
    "- For a random sample of $n$ lines, try `table9.sample(n)`."
   ]
  },
  {
   "cell_type": "code",
   "execution_count": null,
   "metadata": {
    "hidden": false
   },
   "outputs": [],
   "source": [
    "table9.head(6)"
   ]
  },
  {
   "cell_type": "markdown",
   "metadata": {
    "hidden": false
   },
   "source": [
    "It's possible to do more sophisticated interaction with the tables, such as looking up the value of $\\epsilon_b$ for a particular value of $b$. Note that the values $b=15\\log 10$ and $b= 19\\log 10$ are entered as floating point values in the numeric column, truncated at 4 decimal places."
   ]
  },
  {
   "cell_type": "code",
   "execution_count": null,
   "metadata": {
    "hidden": false
   },
   "outputs": [],
   "source": [
    "table9[t9.b == 28]"
   ]
  },
  {
   "cell_type": "markdown",
   "metadata": {
    "hidden": false
   },
   "source": [
    "We can also look up a range of values:"
   ]
  },
  {
   "cell_type": "code",
   "execution_count": null,
   "metadata": {
    "hidden": false
   },
   "outputs": [],
   "source": [
    "table9[t9.b.between(29, 45)]"
   ]
  },
  {
   "cell_type": "markdown",
   "metadata": {
    "hidden": false
   },
   "source": [
    "### Table 10: Sharper bounds for $\\theta(x)$: $x$ in a middle range ($e^{20} \\le x \\le e^{13900}$) \n",
    "\n",
    "Values for $ B_{j,k}$ in $|\\theta(x)-x|<\\frac{ B_{j,k}x}{(\\log x)^k}$ calculated using the method described in Corollary 14.1, \n",
    "Section 4.2.\n",
    "\n",
    "Each $ B_{j,k}$ is \n",
    "valid for $e^{b_j}\\le x \\le e^{b_{j+1}}$. The last line is valid for $e^{10000} \\le x \\le e^{13900}$.\n",
    "\n",
    "**Note:** to explore Table 10 (and the remaining tables below), keep in mind the following syntax: `t10` refers to the complete table, containing columns with both numerical and fomatted values, while `table10` shows only the formatted values.\n",
    "\n",
    "To display formatted content by looking up numerical values, you can use syntax such as `table10[t10.b_j == 43]`.\n",
    "\n",
    "Here is the full table, in case we want to check the column labels without scrolling back to the top:"
   ]
  },
  {
   "cell_type": "code",
   "execution_count": null,
   "metadata": {
    "hidden": false
   },
   "outputs": [],
   "source": [
    "t10.head()"
   ]
  },
  {
   "cell_type": "markdown",
   "metadata": {
    "hidden": false
   },
   "source": [
    "Here's the lookup commmand from above:"
   ]
  },
  {
   "cell_type": "code",
   "execution_count": null,
   "metadata": {
    "hidden": false
   },
   "outputs": [],
   "source": [
    "table10[t10.b_j == 43]"
   ]
  },
  {
   "cell_type": "markdown",
   "metadata": {
    "hidden": false
   },
   "source": [
    "Note that in the numeric table, we've used the values $15\\log 10 = 34.5388$ and $19\\log 10 = 43.7491$. So if we want to look up the value of $B_{j,4}$ corresponding to $b_j = 19\\log 10$, we can use:"
   ]
  },
  {
   "cell_type": "code",
   "execution_count": null,
   "metadata": {
    "hidden": false
   },
   "outputs": [],
   "source": [
    "t10.B_j4[t10.b_j == 43.7491]"
   ]
  },
  {
   "cell_type": "markdown",
   "metadata": {
    "hidden": false
   },
   "source": [
    "The downside of using LaTeX formatting in our column labels is that (as far as I know) one can't use the above syntax to look up the nicely formatted column. But we can still print the whole row,"
   ]
  },
  {
   "cell_type": "code",
   "execution_count": null,
   "metadata": {
    "hidden": false
   },
   "outputs": [],
   "source": [
    "table10[t10.b_j == 43.7491]"
   ]
  },
  {
   "cell_type": "markdown",
   "metadata": {
    "hidden": false
   },
   "source": [
    "or a range of values:"
   ]
  },
  {
   "cell_type": "code",
   "execution_count": null,
   "metadata": {
    "hidden": false
   },
   "outputs": [],
   "source": [
    "table10[t10.b_j.between(30,45)]"
   ]
  },
  {
   "cell_type": "markdown",
   "metadata": {
    "hidden": false
   },
   "source": [
    "### Table 11: Sharper bounds for $\\theta(x)$: $x$ in a middle range ($e^{20} \\le x \\le e^{13900}$)\n",
    "\n",
    "Supplement for Table 10. All $\\mathcal{B}_{j,k}$ values are valid for $x \\in [e^{b_j},e^{13900}]$."
   ]
  },
  {
   "cell_type": "code",
   "execution_count": null,
   "metadata": {
    "hidden": false
   },
   "outputs": [],
   "source": [
    "t11.head()"
   ]
  },
  {
   "cell_type": "markdown",
   "metadata": {
    "hidden": false
   },
   "source": [
    "Again, you can get the whole table by simply typing `t11`, or `table11` if you only want the formatted part, and you can look up certain values or ranges of values using the same syntax as demonstrated for tables 9 and 10 above. Click the **+** icon in the menu to get a new code cell.\n",
    "\n",
    "**Display note:** I ran into a MathJax display bug I couldn't resolve. If you print the entire table, instead of just a subset, for some reason the content gets squashed into multiple lines. To fix this, you can use the command\n",
    "`table11.style.set_properties(**{'width': '120px'})`"
   ]
  },
  {
   "cell_type": "code",
   "execution_count": null,
   "metadata": {
    "hidden": false
   },
   "outputs": [],
   "source": []
  },
  {
   "cell_type": "markdown",
   "metadata": {
    "hidden": false
   },
   "source": [
    "### Table 12: Lower bound for first values of $x \\in [e^{J_0},10^{19}]$\n",
    "\n",
    "Values of $\\mathcal{C}_{b,k}$ in $\\theta(x) > x - \\frac{\\mathcal{C}_{b,k} x}{(\\log x)^k}$ calculated using the method described in Corollary 15.1, Section 4.4.\n",
    "Each $\\mathcal{C}_{b,k}$ is valid for $e^b \\le x \\le 10^{19} \\simeq e^{43.749}$.\n",
    "\n",
    "Since this table was relatively short, and there are details to be displayed for different ranges of the values, I kept this table in $\\LaTeX$ formatting."
   ]
  },
  {
   "cell_type": "markdown",
   "metadata": {
    "hidden": false
   },
   "source": [
    "$$\\begin{array}{cccccccc} \n",
    " & b & \\mathcal{C}_{b,1} & \\mathcal{C}_{b,2} & \\mathcal{C}_{b,3} & \\mathcal{C}_{b,4} & \\mathcal{C}_{b,5} & \\\\ \n",
    " \\hline\n",
    " &&&&&&& \\\\[-1em]\n",
    "\\rlap{\\text{Calculated using } c=-0.8, C=0.81, \\text{ each value valid up to } 5\\cdot10^{10}\\simeq e^{24.635}.}\\\\ \\hline\n",
    "&&&&&&& \\\\[-1em]\n",
    "&  20  &  1.68440 \\cdot 10^{-3}  &  3.36880 \\cdot 10^{-2}  &  6.73750 \\cdot 10^{-1}  &  1.34750 \\cdot 10^{1}  &  2.69500 \\cdot 10^{2 }  & \\\\\n",
    "&  21  &  1.06840 \\cdot 10^{-3}  &  2.24350 \\cdot 10^{-2}  &  4.71140 \\cdot 10^{-1}  &  9.89390 \\cdot 10^{0}  &  2.07780 \\cdot 10^{2 }  & \\\\\n",
    "&  22  &  6.76540 \\cdot 10^{-4}  &  1.48840 \\cdot 10^{-2}  &  3.27450 \\cdot 10^{-1}  &  7.20380 \\cdot 10^{0}  &  1.58490 \\cdot 10^{2 }  & \\\\\n",
    "&  23  &  4.27800 \\cdot 10^{-4}  &  9.83920 \\cdot 10^{-3}  &  2.26310 \\cdot 10^{-1}  &  5.20500 \\cdot 10^{0}  &  1.19720 \\cdot 10^{2 }  & \\\\\n",
    "&  24  &  2.70120 \\cdot 10^{-4}  &  6.48290 \\cdot 10^{-3}  &  1.55590 \\cdot 10^{-1}  &  3.73410 \\cdot 10^{0}  &  8.96190 \\cdot 10^{1 }  & \\\\\n",
    "\\hline\n",
    "&&&&&&& \\\\[-1em]\n",
    "\\rlap{\\text{Calculated using } c=-0.88, C=0.86, \\text{ each value valid up to } 32\\cdot10^{12}\\simeq e^{31.097}.}\\\\ \\hline\n",
    "&&&&&&& \\\\[-1em]\n",
    "&  \\log(5\\cdot 10^{10})  &  2.01560 \\cdot 10^{-4}  &  4.96540 \\cdot 10^{-3}  &  1.22330 \\cdot 10^{-1}  &  3.01350 \\cdot 10^{0}  &  7.42380 \\cdot 10^{1 }  & \\\\\n",
    "&  25  &  1.70330 \\cdot 10^{-4} & 4.25830 \\cdot 10^{-3}  &  1.06460 \\cdot 10^{-1}  &  2.66140 \\cdot 10^{0}  &  6.65350 \\cdot 10^{1 }  & \\\\\n",
    "&  26  &  1.10220 \\cdot 10^{-4}  &  2.86560 \\cdot 10^{-3}  &  7.45050 \\cdot 10^{-2}  &  1.93720 \\cdot 10^{0}  &  5.03650 \\cdot 10^{1 }  & \\\\\n",
    "&  27  &  6.93270 \\cdot 10^{-5}  &  1.87190 \\cdot 10^{-3}  &  5.05400 \\cdot 10^{-2}  &  1.36460 \\cdot 10^{0}  &  3.68430 \\cdot 10^{1 }  & \\\\\n",
    "&  28  &  4.35580 \\cdot 10^{-5}  &  1.21970 \\cdot 10^{-3}  &  3.41500 \\cdot 10^{-2}  &  9.56180 \\cdot 10^{-1}  &  2.67730 \\cdot 10^{1 }  & \\\\\n",
    "&  29  &  2.73380 \\cdot 10^{-5}  &  7.92780 \\cdot 10^{-4}  &  2.29910 \\cdot 10^{-2}  &  6.66730 \\cdot 10^{-1}  &  1.93360 \\cdot 10^{1 }  & \\\\\n",
    "&  30  &  1.71400 \\cdot 10^{-5}  &  5.14180 \\cdot 10^{-4}  &  1.54260 \\cdot 10^{-2}  &  4.62760 \\cdot 10^{-1}  &  1.38830 \\cdot 10^{1 }  & \\\\\n",
    "&  31  &  1.07350 \\cdot 10^{-5}  &  3.32790 \\cdot 10^{-4}  &  1.03170 \\cdot 10^{-2}  &  3.19810 \\cdot 10^{-1}  &  9.91400 \\cdot 10^{0 }  & \\\\\n",
    "\\hline\n",
    "&&&&&&& \\\\[-1em]\n",
    "\\rlap{\\text{Calculated using } -c=C=0.94, \\text{ each value valid up to } 10^{19}\\simeq e^{43.749}.}\\\\ \\hline\n",
    "&&&&&&& \\\\[-1em]\n",
    "&  \\log(3.2\\cdot10^{13})  &  1.02600 \\cdot 10^{-5}  &  3.19040 \\cdot 10^{-4}  &  9.92090 \\cdot 10^{-3}  &  3.08510 \\cdot 10^{-1}  &  9.59360 \\cdot 10^{0 }  & \\\\\n",
    "&  32  &  6.71750 \\cdot 10^{-6}  &  2.14960 \\cdot 10^{-4}  &  6.87870 \\cdot 10^{-3}  &  2.20120 \\cdot 10^{-1}  &  7.04380 \\cdot 10^{0 }  & \\\\\n",
    "&  33  &  4.38000 \\cdot 10^{-6}  &  1.44540 \\cdot 10^{-4}  &  4.76990 \\cdot 10^{-3}  &  1.57410 \\cdot 10^{-1}  &  5.19440 \\cdot 10^{0 }  & \\\\\n",
    "&  34  &  2.73610 \\cdot 10^{-6}  &  9.30270 \\cdot 10^{-5}  &  3.16300 \\cdot 10^{-3}  &  1.07540 \\cdot 10^{-1}  &  3.65640 \\cdot 10^{0 }  & \\\\\n",
    "&  35  &  1.70780 \\cdot 10^{-6}  &  5.97730 \\cdot 10^{-5}  &  2.09210 \\cdot 10^{-3}  &  7.32220 \\cdot 10^{-2}  &  2.56280 \\cdot 10^{0 }  & \\\\\n",
    "&  36  &  1.06520 \\cdot 10^{-6}  &  3.83460 \\cdot 10^{-5}  &  1.38050 \\cdot 10^{-3}  &  4.96960 \\cdot 10^{-2}  &  1.78910 \\cdot 10^{0 }  & \\\\\n",
    "&  37  &  6.63850 \\cdot 10^{-7}  &  2.45630 \\cdot 10^{-5}  &  9.08810 \\cdot 10^{-4}  &  3.36260 \\cdot 10^{-2}  &  1.24420 \\cdot 10^{0 }  & \\\\\n",
    "&  38  &  4.13450 \\cdot 10^{-7}  &  1.57120 \\cdot 10^{-5}  &  5.97020 \\cdot 10^{-4}  &  2.26870 \\cdot 10^{-2}  &  8.62100 \\cdot 10^{-1 }  & \\\\\n",
    "&  39  &  2.57330 \\cdot 10^{-7}  &  1.00360 \\cdot 10^{-5}  &  3.91400 \\cdot 10^{-4}  &  1.52650 \\cdot 10^{-2}  &  5.95320 \\cdot 10^{-1 }  & \\\\\n",
    "&  40  &  1.60060 \\cdot 10^{-7}  &  6.40240 \\cdot 10^{-6}  &  2.56100 \\cdot 10^{-4}  &  1.02440 \\cdot 10^{-2}  &  4.09750 \\cdot 10^{-1 }  & \\\\\n",
    "&  41  &  9.94970 \\cdot 10^{-8}  &  4.07940 \\cdot 10^{-6}  &  1.67260 \\cdot 10^{-4}  &  6.85740 \\cdot 10^{-3}  &  2.81160 \\cdot 10^{-1 }  & \\\\\n",
    "&  42  &  6.18140 \\cdot 10^{-8}  &  2.59620 \\cdot 10^{-6}  &  1.09040 \\cdot 10^{-4}  &  4.57970 \\cdot 10^{-3}  &  1.92350 \\cdot 10^{-1 }  & \\\\\n",
    "&  43  &  3.83820 \\cdot 10^{-8}  &  1.65050 \\cdot 10^{-6}  &  7.09680 \\cdot 10^{-5}  &  3.05170 \\cdot 10^{-3}  &  1.31220 \\cdot 10^{-1 }  & \\\\\n",
    "\\hline\n",
    "\\end{array} $$"
   ]
  },
  {
   "cell_type": "markdown",
   "metadata": {
    "hidden": false
   },
   "source": [
    "### Table 13: Lower bound for $x \\le 10^{19}$ (Numerical Verification)\n",
    "\n",
    "Values for $\\mathcal{D}_k(a,b)$ in \n",
    "\n",
    " $$\\mathcal{D}_k(a,b) = \\max_{n_0 \\le n \\le n_1} \\left( \\frac{(\\log p_{n})^k \\cdot (p_{n} - \\theta(p_{n-1}))}{p_{n}} \\right)$$\n",
    "\n",
    "calculated using the method described in Lemma 16, Section 4.5. We give values for selected ranges between $1$ and $7.0 \\cdot 10^{11}$.\n",
    "\n",
    "A few sample commands are included; other options can be found in the presentation of Tables 9 and 10 above."
   ]
  },
  {
   "cell_type": "code",
   "execution_count": null,
   "metadata": {
    "hidden": false
   },
   "outputs": [],
   "source": [
    "t13.head(4)"
   ]
  },
  {
   "cell_type": "code",
   "execution_count": null,
   "metadata": {
    "hidden": false
   },
   "outputs": [],
   "source": [
    "table13.sample(5)"
   ]
  },
  {
   "cell_type": "markdown",
   "metadata": {
    "hidden": false
   },
   "source": [
    "### Table 14: Values for Theorem 2 for $k = 0$.\n",
    "\n",
    "Values of $m_0$ in $\\theta(x) \\ge x(1-m_0)$ and values of $M_0$ in $\\theta(x) \\le x(1+M_0)$ from Theorem 2,\n",
    "using the methods shown in Lemmas 18 and 17 respectively. Each value is valid for $x \\ge \\log X_0 = \\log X_1$.\n",
    "\n",
    "A few sample commands are included; other options can be found in the presentation of Tables 9 and 10 above."
   ]
  },
  {
   "cell_type": "code",
   "execution_count": null,
   "metadata": {
    "hidden": false
   },
   "outputs": [],
   "source": [
    "t14.head(4)"
   ]
  },
  {
   "cell_type": "code",
   "execution_count": null,
   "metadata": {
    "hidden": false
   },
   "outputs": [],
   "source": [
    "table14[t14.logX.between(27,35)]"
   ]
  },
  {
   "cell_type": "markdown",
   "metadata": {
    "hidden": false
   },
   "source": [
    "### Table 15: Values for Theorem 2 for $k \\in \\{1,2,3,4,5\\}$.\n",
    "\n",
    "Values of $m_k = M_k$ in $ |\\theta(x) - x| < \\frac{m_k x}{(\\log x)^k}$ as in Theorem 2. \n",
    "Combined theoretical results from Table 8, 11, and 12. \n",
    "Each value is valid for $x \\ge X_0 = X_1$. Note that for $x \\le 10^{19}$, we have $M_k = 0$, and for $x \\le e^{27}$, we have numerical results \n",
    "in Table 13."
   ]
  },
  {
   "cell_type": "code",
   "execution_count": null,
   "metadata": {
    "hidden": false
   },
   "outputs": [],
   "source": [
    "t15.sample(4)"
   ]
  },
  {
   "cell_type": "code",
   "execution_count": null,
   "metadata": {
    "hidden": false
   },
   "outputs": [],
   "source": []
  }
 ],
 "metadata": {
  "kernelspec": {
   "display_name": "Python 3",
   "language": "python",
   "name": "python3"
  },
  "language_info": {
   "codemirror_mode": {
    "name": "ipython",
    "version": 3
   },
   "file_extension": ".py",
   "mimetype": "text/x-python",
   "name": "python",
   "nbconvert_exporter": "python",
   "pygments_lexer": "ipython3",
   "version": "3.6.8"
  }
 },
 "nbformat": 4,
 "nbformat_minor": 2
}
